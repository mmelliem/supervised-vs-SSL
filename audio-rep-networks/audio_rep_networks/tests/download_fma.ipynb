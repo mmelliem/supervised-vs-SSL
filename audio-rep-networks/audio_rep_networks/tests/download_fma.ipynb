{
 "cells": [
  {
   "cell_type": "code",
   "execution_count": 1,
   "id": "e6d6f779",
   "metadata": {},
   "outputs": [],
   "source": [
    "# Code from Peer via Discord\n",
    "import os\n",
    "import shutil\n",
    "from pathlib import Path\n",
    "import requests\n",
    "import zipfile\n",
    "from tqdm import tqdm\n",
    "\n",
    "\n",
    "def download_unzip_exp_data(osf_url, dataset_path=None):\n",
    "    \"\"\"\n",
    "    Download the example dataset from from OSF and unzip it.\n",
    "\n",
    "    Parameters\n",
    "    ----------\n",
    "    osf_url : string\n",
    "        The URL of the OSF file to download.\n",
    "    dataset_path : string\n",
    "        Path where the file will be saved. If None, the file will be saved\n",
    "        in the current working directory. Default = None.\n",
    "\n",
    "    Returns\n",
    "    -------\n",
    "    file_local : PosixPath or Pandas DataFrame\n",
    "        PosixPath indicating the path to the downloaded file.\n",
    "\n",
    "    Examples\n",
    "    --------\n",
    "    Download the file without specifying a path.\n",
    "\n",
    "    >>> download_and_unzip_osf_file(osf_url, dataset_path=None)\n",
    "\n",
    "    Download the file, specifying a path.\n",
    "\n",
    "    >>> download_and_unzip_osf_file(osf_url, dataset_path='/home/user/Desktop')\n",
    "    \"\"\"\n",
    "\n",
    "    # check if path where to save the file was provided, if not\n",
    "    # save it to the current directory\n",
    "    if dataset_path is None:\n",
    "        # Warn user dataset is saving to current working directory\n",
    "        path = Path(os.curdir)\n",
    "        print(f\"dataset_path not set, saving dataset to {path}\")\n",
    "    else:\n",
    "        path = Path(dataset_path)\n",
    "\n",
    "    # in either case: check if path exists and if not, create it\n",
    "    if not path.exists():\n",
    "        os.makedirs(path)\n",
    "\n",
    "    # Get the file name from the URL\n",
    "    file_name = osf_url.split('/')[-1]\n",
    "    zip_path = os.path.join(path, file_name)\n",
    "\n",
    "    # if the file does not already exist, download it from osf\n",
    "    if not Path(zip_path).exists():\n",
    "\n",
    "        # provide a little update message\n",
    "        print('Data will be downloaded to %s' % zip_path)\n",
    "\n",
    "        # download and save the file, updating the user on the\n",
    "        # download progress\n",
    "        with requests.get(osf_url, stream=True) as file:\n",
    "\n",
    "            # get total size of file for download updates\n",
    "            file_size = int(file.headers.get('Content-Length'))\n",
    "\n",
    "            # implement progress bar via tqdm\n",
    "            with tqdm.wrapattr(file.raw, \"read\", total=file_size,\n",
    "                               desc=\"\") as raw:\n",
    "\n",
    "                # save the output to the file specified before\n",
    "                with open(zip_path, 'wb') as output:\n",
    "                    shutil.copyfileobj(raw, output)\n",
    "\n",
    "    # Unzip the file\n",
    "    with zipfile.ZipFile(zip_path, 'r') as zip_ref:\n",
    "        zip_ref.extractall(path)\n",
    "\n",
    "    # Remove the zip file\n",
    "    os.remove(zip_path)\n",
    "\n",
    "    # Safely remove __MACOSX folder if it exists\n",
    "    macosx_path = path / '__MACOSX'\n",
    "    if macosx_path.exists():\n",
    "        # Use rmtree to remove non-empty folders\n",
    "        shutil.rmtree(macosx_path, ignore_errors=True)\n",
    "\n",
    "    # return either the path to the dataset\n",
    "    return path"
   ]
  },
  {
   "cell_type": "code",
   "execution_count": null,
   "id": "16674825",
   "metadata": {},
   "outputs": [
    {
     "name": "stdout",
     "output_type": "stream",
     "text": [
      "Data will be downloaded to /projects/p32387/data/fma/fma_large.zip\n"
     ]
    },
    {
     "name": "stderr",
     "output_type": "stream",
     "text": [
      "100%|██████████| 93.4G/93.4G [42:14<00:00, 39.6MB/s]  \n"
     ]
    }
   ],
   "source": [
    "# link we need\n",
    "fma_osf = \"https://os.unil.cloud.switch.ch/fma/fma_large.zip\"\n",
    "\n",
    "# Download dataset to project directory\n",
    "quest_data_path = download_unzip_exp_data(\n",
    "    osf_url=fma_osf,\n",
    "    dataset_path=\"/projects/p32387/data/fma\"\n",
    ")"
   ]
  },
  {
   "cell_type": "code",
   "execution_count": null,
   "id": "bd8f39a3",
   "metadata": {},
   "outputs": [],
   "source": []
  }
 ],
 "metadata": {
  "kernelspec": {
   "display_name": "audio_rep",
   "language": "python",
   "name": "python3"
  },
  "language_info": {
   "codemirror_mode": {
    "name": "ipython",
    "version": 3
   },
   "file_extension": ".py",
   "mimetype": "text/x-python",
   "name": "python",
   "nbconvert_exporter": "python",
   "pygments_lexer": "ipython3",
   "version": "3.10.6"
  }
 },
 "nbformat": 4,
 "nbformat_minor": 5
}
