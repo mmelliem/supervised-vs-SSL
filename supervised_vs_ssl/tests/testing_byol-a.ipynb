{
 "cells": [
  {
   "cell_type": "code",
   "execution_count": 1,
   "id": "af5bfed7",
   "metadata": {},
   "outputs": [
    {
     "name": "stderr",
     "output_type": "stream",
     "text": [
      "/home/melan/supervised-vs-SSL/supervised_vs_ssl/tests/../models/byol-a/byol_a/models.py:23: FutureWarning: You are using `torch.load` with `weights_only=False` (the current default value), which uses the default pickle module implicitly. It is possible to construct malicious pickle data which will execute arbitrary code during unpickling (See https://github.com/pytorch/pytorch/blob/main/SECURITY.md#untrusted-models for more details). In a future release, the default value for `weights_only` will be flipped to `True`. This limits the functions that could be executed during unpickling. Arbitrary objects will no longer be allowed to be loaded via this mode unless they are explicitly allowlisted by the user via `torch.serialization.add_safe_globals`. We recommend you start setting `weights_only=True` for any use case where you don't have full control of the loaded file. Please open an issue on GitHub for any issues related to this experimental feature.\n",
      "  state_dict = state_dict or torch.load(weight_file, map_location=device)\n"
     ]
    },
    {
     "name": "stdout",
     "output_type": "stream",
     "text": [
      "tensor([[538.8760,   0.0000,   0.0000,  ...,   0.0000,   0.0000,   0.0000]],\n",
      "       device='cuda:0')\n",
      "Output device: cuda:0\n"
     ]
    }
   ],
   "source": [
    "import torch\n",
    "import sys\n",
    "sys.path.append(\"../models/byol-a\")\n",
    "from byol_a.models import AudioNTT2020\n",
    "\n",
    "# Instantiate BYOL-A model\n",
    "model = AudioNTT2020(d=2048)\n",
    "model.eval()\n",
    "model = model.cuda()  # move model to GPU\n",
    "model.load_weight(\"../models/byol-a/pretrained_weights/AudioNTT2020-BYOLA-64x96d2048.pth\", torch.device(\"cuda\"))\n",
    "\n",
    "# Create a dummy audio tensor: 1 batch, 1 channel, 64 time steps, 96 frequency bins\n",
    "audio = torch.randn((1, 1, 64, 96)).cuda()  # move input to GPU\n",
    "\n",
    "with torch.no_grad():\n",
    "    output = model(audio)\n",
    "\n",
    "print(output)\n",
    "print(\"Output device:\", output.device)"
   ]
  }
 ],
 "metadata": {
  "kernelspec": {
   "display_name": "wcas_project",
   "language": "python",
   "name": "python3"
  },
  "language_info": {
   "codemirror_mode": {
    "name": "ipython",
    "version": 3
   },
   "file_extension": ".py",
   "mimetype": "text/x-python",
   "name": "python",
   "nbconvert_exporter": "python",
   "pygments_lexer": "ipython3",
   "version": "3.10.18"
  }
 },
 "nbformat": 4,
 "nbformat_minor": 5
}
