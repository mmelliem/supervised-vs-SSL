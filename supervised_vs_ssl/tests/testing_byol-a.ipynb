{
 "cells": [
  {
   "cell_type": "code",
   "execution_count": null,
   "id": "af5bfed7",
   "metadata": {},
   "outputs": [
    {
     "ename": "NameError",
     "evalue": "name 'BYOLAudio' is not defined",
     "output_type": "error",
     "traceback": [
      "\u001b[0;31m---------------------------------------------------------------------------\u001b[0m",
      "\u001b[0;31mNameError\u001b[0m                                 Traceback (most recent call last)",
      "Cell \u001b[0;32mIn[5], line 6\u001b[0m\n\u001b[1;32m      3\u001b[0m \u001b[38;5;28;01mfrom\u001b[39;00m\u001b[38;5;250m \u001b[39m\u001b[38;5;21;01mbyol_a\u001b[39;00m\u001b[38;5;21;01m.\u001b[39;00m\u001b[38;5;21;01mmodels\u001b[39;00m\u001b[38;5;250m \u001b[39m\u001b[38;5;28;01mimport\u001b[39;00m AudioNTT2020\n\u001b[1;32m      5\u001b[0m \u001b[38;5;66;03m# Instantiate BYOL-A model\u001b[39;00m\n\u001b[0;32m----> 6\u001b[0m model \u001b[38;5;241m=\u001b[39m \u001b[43mBYOLAudio\u001b[49m()\n\u001b[1;32m      7\u001b[0m model\u001b[38;5;241m.\u001b[39meval()\n\u001b[1;32m      8\u001b[0m model \u001b[38;5;241m=\u001b[39m model\u001b[38;5;241m.\u001b[39mcuda()  \u001b[38;5;66;03m# move model to GPU\u001b[39;00m\n",
      "\u001b[0;31mNameError\u001b[0m: name 'BYOLAudio' is not defined"
     ]
    }
   ],
   "source": [
    "import sys\n",
    "sys.path.append(\"../models/byol-a\")\n",
    "from byol_a.models import AudioNTT2020\n",
    "\n",
    "# Instantiate BYOL-A model\n",
    "model = AudioNTT2020()\n",
    "model.eval()\n",
    "model = model.cuda()  # move model to GPU\n",
    "\n",
    "# Create a dummy audio tensor: 1 batch, 10 seconds at 32kHz\n",
    "audio = torch.randn((1, 32000*10)).cuda()  # move input to GPU\n",
    "\n",
    "with torch.no_grad():\n",
    "    output = model(audio)\n",
    "\n",
    "print(output)\n",
    "print(\"Output device:\", output.device)"
   ]
  },
  {
   "cell_type": "code",
   "execution_count": null,
   "metadata": {},
   "outputs": [],
   "source": []
  }
 ],
 "metadata": {
  "kernelspec": {
   "display_name": "wcas_project",
   "language": "python",
   "name": "python3"
  },
  "language_info": {
   "codemirror_mode": {
    "name": "ipython",
    "version": 3
   },
   "file_extension": ".py",
   "mimetype": "text/x-python",
   "name": "python",
   "nbconvert_exporter": "python",
   "pygments_lexer": "ipython3",
   "version": "3.10.18"
  }
 },
 "nbformat": 4,
 "nbformat_minor": 5
}
