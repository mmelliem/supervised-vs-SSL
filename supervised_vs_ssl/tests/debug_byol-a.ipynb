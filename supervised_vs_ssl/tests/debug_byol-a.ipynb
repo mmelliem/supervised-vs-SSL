{
 "cells": [
  {
   "cell_type": "code",
   "execution_count": null,
   "id": "5a60985e",
   "metadata": {},
   "outputs": [],
   "source": [
    "import torch\n",
    "print(f\"Is GPU available: {torch.cuda.is_available()}\")\n",
    "print(f\"Number of GPUs: {torch.cuda.device_count()}\")\n",
    "print(f\"GPU name: {torch.cuda.get_device_name(0)}\")"
   ]
  },
  {
   "cell_type": "code",
   "execution_count": null,
   "id": "0cb3c83a",
   "metadata": {},
   "outputs": [],
   "source": [
    "# testing librosa if it makes a cochleagram\n",
    "\n",
    "import librosa\n",
    "import numpy as np\n",
    "import matplotlib.pyplot as plt\n",
    "\n",
    "y, sr = librosa.load(\"test.wav\", sr=None)\n",
    "# simple cochleagram approximation using STFT magnitude\n",
    "S = np.abs(librosa.stft(y, n_fft=512, hop_length=256))\n",
    "plt.imshow(20*np.log10(S+1e-6), origin='lower', aspect='auto')\n",
    "plt.title(\"Cochleagram-like representation\")\n",
    "plt.show()"
   ]
  },
  {
   "cell_type": "code",
   "execution_count": null,
   "id": "af5bfed7",
   "metadata": {},
   "outputs": [
    {
     "ename": "",
     "evalue": "",
     "output_type": "error",
     "traceback": [
      "\u001b[1;31mRunning cells with 'wcas_project (Python 3.10.18)' requires the ipykernel package.\n",
      "\u001b[1;31m<a href='command:jupyter.createPythonEnvAndSelectController'>Create a Python Environment</a> with the required packages.\n",
      "\u001b[1;31mOr install 'ipykernel' using the command: 'conda install -n wcas_project ipykernel --update-deps --force-reinstall'"
     ]
    }
   ],
   "source": [
    "import torch\n",
    "import sys\n",
    "sys.path.append(\"../models/byol-a\")\n",
    "from byol_a.models import AudioNTT2020\n",
    "\n",
    "# Instantiate BYOL-A model\n",
    "model = AudioNTT2020(d=2048)\n",
    "model.eval()\n",
    "model = model.cuda()  # move model to GPU\n",
    "model.load_weight(\"../models/byol-a/pretrained_weights/AudioNTT2020-BYOLA-64x96d2048.pth\", torch.device(\"cuda\"))\n",
    "\n",
    "# Create a dummy audio tensor: 1 batch, 1 channel, 64 time steps, 96 frequency bins\n",
    "audio = torch.randn((1, 1, 64, 96)).cuda()  # move input to GPU\n",
    "\n",
    "with torch.no_grad():\n",
    "    output = model(audio)\n",
    "\n",
    "print(output)\n",
    "print(\"Output device:\", output.device)"
   ]
  }
 ],
 "metadata": {
  "kernelspec": {
   "display_name": "Python 3",
   "language": "python",
   "name": "python3"
  },
  "language_info": {
   "codemirror_mode": {
    "name": "ipython",
    "version": 3
   },
   "file_extension": ".py",
   "mimetype": "text/x-python",
   "name": "python",
   "nbconvert_exporter": "python",
   "pygments_lexer": "ipython3",
   "version": "3.10.18"
  }
 },
 "nbformat": 4,
 "nbformat_minor": 5
}
